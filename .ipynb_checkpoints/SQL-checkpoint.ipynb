{
 "cells": [
  {
   "cell_type": "markdown",
   "id": "26eb144c-701a-446e-8f51-2cc4df0662a0",
   "metadata": {
    "tags": []
   },
   "source": [
    "# Control de bases de datos con Python\n",
    "* **SQL** Structured Query Language\n",
    "\n",
    "    1) Abrir/Crear conexión\n",
    "    2) Crear puntero\n",
    "    3) Ejecutar query SQL\n",
    "    4) Operar con los resultados de la query\\\n",
    "        4.1) **CRUDE** Create, Read, Update, Delete"
   ]
  },
  {
   "cell_type": "code",
   "execution_count": 2,
   "id": "7e919939-2a9f-4945-b14d-7b8acb071ddd",
   "metadata": {},
   "outputs": [],
   "source": [
    "import sqlite3 # libreria de python SQLite"
   ]
  },
  {
   "cell_type": "code",
   "execution_count": 4,
   "id": "b726e075-0ab7-4fc1-abbc-3810a3653094",
   "metadata": {},
   "outputs": [],
   "source": [
    "# crear conexion\n",
    "conn = sqlite3.connect('base_datos_maxi')\n",
    "# cear cursor/puntero\n",
    "cursor = conn.cursor()\n",
    "# crear la primera tabla, siguiendo lenguage SQL\n",
    "cursor.execute('CREATE TABLE PRODUCTOS (NOMBRE_ARTICULO VARCHAR(50), PRECIO INTEGER, SECCION VARCHAR(20))')\n",
    "conn.close()\n",
    "# cerrar la conexion"
   ]
  },
  {
   "cell_type": "markdown",
   "id": "e53f9d9e-8a0c-4a5f-bd1d-0576eb1ce4d9",
   "metadata": {},
   "source": [
    "## Ejemplos de CRUDE"
   ]
  },
  {
   "cell_type": "code",
   "execution_count": 6,
   "id": "6a16f2f8-e8b6-4588-a5bb-2f3f4d3b8806",
   "metadata": {},
   "outputs": [],
   "source": [
    "conn = sqlite3.connect('base_datos_maxi')\n",
    "cursor = conn.cursor()\n",
    "\n",
    "# ejecutamos las modificaciones\n",
    "cursor.execute('INSERT INTO PRODUCTOS VALUES (\"BALON\", 15, \"DEPORTES\")')\n",
    "# commit the changes\n",
    "conn.commit()\n",
    "\n",
    "conn.close()"
   ]
  },
  {
   "cell_type": "markdown",
   "id": "187162c4-c633-4956-8e93-efb55c8e4d13",
   "metadata": {},
   "source": [
    "### Insertar varios registros a la vez\n",
    "* cursor.executemany('INSERT INTO \\<table name\\> VALUES (?, ?, ...)', values_list):\n",
    "\n",
    "    Tantos interrogantes, ?, como entradas tengan los datos que queremos introducir"
   ]
  },
  {
   "cell_type": "code",
   "execution_count": 7,
   "id": "30fc6059-39a7-4ea5-adb4-c782d0f1850b",
   "metadata": {},
   "outputs": [],
   "source": [
    "conn = sqlite3.connect('base_datos_maxi')\n",
    "cursor = conn.cursor()\n",
    "\n",
    "# NOMBRE --- PRECIO --- SECCION\n",
    "registros = [(\"CAMISETA\", 10, \"DEPORTES\"), \n",
    "             (\"CAMION\", 20, \"JUGUETERIA\"), \n",
    "             (\"ZAPATILLAS\", 80, \"CALZADO\")]\n",
    "cursor.executemany('INSERT INTO PRODUCTOS VALUES (?, ?, ?)', registros)\n",
    "# commit the changes\n",
    "conn.commit()\n",
    "conn.close()"
   ]
  },
  {
   "cell_type": "markdown",
   "id": "1b0fe2f8-de03-4c72-b2fd-ff854c9d44c5",
   "metadata": {},
   "source": [
    "### Acceder a la informacion de la Base de Datos\n",
    "Instruccion SQL de tipo SELECT (* para recuperar todos los productos de la lista)\n",
    "* cursor.execute('SELECT * FROM \\<table name\\>')\n",
    "* cursor.fetchall(): Devuelve la query anterior en forma de lista"
   ]
  },
  {
   "cell_type": "code",
   "execution_count": 9,
   "id": "b7d1c43f-68b4-43cf-b9a6-c3fe21ae7889",
   "metadata": {},
   "outputs": [],
   "source": [
    "conn = sqlite3.connect('base_datos_maxi')\n",
    "cursor = conn.cursor()\n",
    "\n",
    "cursor.execute('SELECT * FROM PRODUCTOS')\n",
    "\n",
    "registros = cursor.fetchall()\n",
    "# commit the changes\n",
    "conn.commit()\n",
    "conn.close()"
   ]
  },
  {
   "cell_type": "code",
   "execution_count": 37,
   "id": "b3f45e59-1434-4811-af28-dc4186f93b59",
   "metadata": {},
   "outputs": [
    {
     "data": {
      "text/plain": [
       "array(['BALON', 'CAMISETA', 'CAMION', 'ZAPATILLAS'], dtype='<U11')"
      ]
     },
     "execution_count": 37,
     "metadata": {},
     "output_type": "execute_result"
    }
   ],
   "source": [
    "import numpy as np\n",
    "# ejemplo simple de como tratar los datos, aunque seria recomendable usar PANDAS dataframes\n",
    "registros_array = np.concatenate(np.array(registros)).reshape(len(registros), len(registros[0])) # reshape nrows, ncols\n",
    "nombres = registros_array[:, 0]\n",
    "nombres"
   ]
  },
  {
   "cell_type": "markdown",
   "id": "3af662fd-133d-4701-a06a-00a86109c437",
   "metadata": {},
   "source": [
    "## Claves principales de cada registro: PRIMARY KEYS"
   ]
  },
  {
   "cell_type": "code",
   "execution_count": 38,
   "id": "b2143014-34b6-4480-9b23-4e8f2cd0300a",
   "metadata": {},
   "outputs": [],
   "source": [
    "# crear conexion\n",
    "conn = sqlite3.connect('base_datos_primary_key')\n",
    "# cear cursor/puntero\n",
    "cursor = conn.cursor()\n",
    "# crear tabla\n",
    "cursor.execute('''\n",
    "CREATE TABLE PRODUCTOS (\n",
    "CODIGO_ARTICULO VARCHAR(4) PRIMARY KEY,\n",
    "NOMBRE_ARTICULO VARCHAR(50), \n",
    "PRECIO INTEGER, \n",
    "SECCION VARCHAR(20)\n",
    ")''')\n",
    "\n",
    "registros = [(\"AR01\", \"CAMISETA\", 10, \"DEPORTES\"), \n",
    "             (\"AR02\", \"CAMION\", 20, \"JUGUETERIA\"), \n",
    "             (\"AR03\", \"ZAPATILLAS\", 80, \"CALZADO\")]\n",
    "conn.executemany('INSERT INTO PRODUCTOS VALUES (?, ?, ?, ?)', registros)\n",
    "\n",
    "conn.commit()\n",
    "conn.close()"
   ]
  },
  {
   "cell_type": "markdown",
   "id": "25331713-3781-472a-971c-78ce167746e3",
   "metadata": {},
   "source": [
    "**UNIQUE** Error al intentar añadir un objeto con una clave que ya habia sido usada"
   ]
  },
  {
   "cell_type": "code",
   "execution_count": 39,
   "id": "122d9a0c-00ea-4a93-a73e-288eacffe190",
   "metadata": {},
   "outputs": [
    {
     "ename": "IntegrityError",
     "evalue": "UNIQUE constraint failed: PRODUCTOS.CODIGO_ARTICULO",
     "output_type": "error",
     "traceback": [
      "\u001b[1;31m---------------------------------------------------------------------------\u001b[0m",
      "\u001b[1;31mIntegrityError\u001b[0m                            Traceback (most recent call last)",
      "Input \u001b[1;32mIn [39]\u001b[0m, in \u001b[0;36m<cell line: 6>\u001b[1;34m()\u001b[0m\n\u001b[0;32m      3\u001b[0m \u001b[38;5;66;03m# cear cursor/puntero\u001b[39;00m\n\u001b[0;32m      4\u001b[0m cursor \u001b[38;5;241m=\u001b[39m conn\u001b[38;5;241m.\u001b[39mcursor()\n\u001b[1;32m----> 6\u001b[0m \u001b[43mconn\u001b[49m\u001b[38;5;241;43m.\u001b[39;49m\u001b[43mexecute\u001b[49m\u001b[43m(\u001b[49m\u001b[38;5;124;43m'\u001b[39;49m\u001b[38;5;124;43mINSERT INTO PRODUCTOS VALUES (\u001b[39;49m\u001b[38;5;124;43m\"\u001b[39;49m\u001b[38;5;124;43mAR01\u001b[39;49m\u001b[38;5;124;43m\"\u001b[39;49m\u001b[38;5;124;43m, \u001b[39;49m\u001b[38;5;124;43m\"\u001b[39;49m\u001b[38;5;124;43mCALCETINES\u001b[39;49m\u001b[38;5;124;43m\"\u001b[39;49m\u001b[38;5;124;43m, 5, \u001b[39;49m\u001b[38;5;124;43m\"\u001b[39;49m\u001b[38;5;124;43mROPA\u001b[39;49m\u001b[38;5;124;43m\"\u001b[39;49m\u001b[38;5;124;43m)\u001b[39;49m\u001b[38;5;124;43m'\u001b[39;49m\u001b[43m)\u001b[49m\n\u001b[0;32m      8\u001b[0m conn\u001b[38;5;241m.\u001b[39mcommit()\n\u001b[0;32m      9\u001b[0m conn\u001b[38;5;241m.\u001b[39mclose()\n",
      "\u001b[1;31mIntegrityError\u001b[0m: UNIQUE constraint failed: PRODUCTOS.CODIGO_ARTICULO"
     ]
    }
   ],
   "source": [
    "# crear conexion\n",
    "conn = sqlite3.connect('base_datos_primary_key')\n",
    "# cear cursor/puntero\n",
    "cursor = conn.cursor()\n",
    "\n",
    "conn.execute('INSERT INTO PRODUCTOS VALUES (\"AR01\", \"CALCETINES\", 5, \"ROPA\")')\n",
    "\n",
    "conn.commit()\n",
    "conn.close()"
   ]
  },
  {
   "cell_type": "markdown",
   "id": "c4490413-3d0e-4d36-b57f-49eda5f34167",
   "metadata": {},
   "source": [
    "### Automatizacion de las claves: \n",
    "Una manera de asegurar que no haya errores como el que acabamos de ver es automatizar el proceso de creacion de IDs\n",
    "* ID INTEGER PRIMARY KEY AUTOINCREMENT,\n",
    "* conn.executemany('INSERT INTO PRODUCTOS VALUES (NULL, ?, ?, ?)', registros): Es necesario añadir NULL al campo donde debería ir el ID\n"
   ]
  },
  {
   "cell_type": "code",
   "execution_count": 41,
   "id": "eebaa7cb-4140-42dd-a7d5-aca9c30a4942",
   "metadata": {},
   "outputs": [],
   "source": [
    "# crear conexion\n",
    "conn = sqlite3.connect('base_datos_primary_key')\n",
    "# cear cursor/puntero\n",
    "cursor = conn.cursor()\n",
    "# crear tabla\n",
    "cursor.execute('''\n",
    "    CREATE TABLE PRODUCTOS (\n",
    "    ID INTEGER PRIMARY KEY AUTOINCREMENT,\n",
    "    NOMBRE_ARTICULO VARCHAR(50), \n",
    "    PRECIO INTEGER, \n",
    "    SECCION VARCHAR(20)\n",
    ")''')\n",
    "\n",
    "registros = [(\"CAMISETA\", 10, \"DEPORTES\"), \n",
    "             (\"CAMION\", 20, \"JUGUETERIA\"), \n",
    "             (\"ZAPATILLAS\", 80, \"CALZADO\")]\n",
    "conn.executemany('INSERT INTO PRODUCTOS VALUES (NULL, ?, ?, ?)', registros)\n",
    "\n",
    "conn.commit()\n",
    "conn.close()"
   ]
  },
  {
   "cell_type": "code",
   "execution_count": null,
   "id": "9a84fccd-54cb-474f-bb5d-520a11b8c7ec",
   "metadata": {},
   "outputs": [],
   "source": []
  }
 ],
 "metadata": {
  "kernelspec": {
   "display_name": "Python 3 (ipykernel)",
   "language": "python",
   "name": "python3"
  },
  "language_info": {
   "codemirror_mode": {
    "name": "ipython",
    "version": 3
   },
   "file_extension": ".py",
   "mimetype": "text/x-python",
   "name": "python",
   "nbconvert_exporter": "python",
   "pygments_lexer": "ipython3",
   "version": "3.9.12"
  }
 },
 "nbformat": 4,
 "nbformat_minor": 5
}
